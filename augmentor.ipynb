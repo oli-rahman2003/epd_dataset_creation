{
 "cells": [
  {
   "cell_type": "code",
   "execution_count": 1,
   "id": "d65cd2fe-64ef-4c18-aeeb-99b4ec945751",
   "metadata": {
    "scrolled": true
   },
   "outputs": [
    {
     "name": "stderr",
     "output_type": "stream",
     "text": [
      "[nltk_data] Downloading package punkt to\n",
      "[nltk_data]     C:\\Users\\MohammedShah\\AppData\\Roaming\\nltk_data...\n",
      "[nltk_data]   Package punkt is already up-to-date!\n"
     ]
    },
    {
     "data": {
      "text/plain": [
       "True"
      ]
     },
     "execution_count": 1,
     "metadata": {},
     "output_type": "execute_result"
    }
   ],
   "source": [
    "import pandas as pd\n",
    "import random\n",
    "import nlpaug.augmenter.word as naw\n",
    "import nlpaug.augmenter.char as nac\n",
    "import nltk\n",
    "nltk.download('punkt')"
   ]
  },
  {
   "cell_type": "code",
   "execution_count": 31,
   "id": "87ad6808-a923-434f-b0c0-9b03a030e456",
   "metadata": {},
   "outputs": [],
   "source": [
    "input_csv_file = \"C:/Users/MohammedShah/Desktop/mass_epd_csvs/mass_epd.csv\"\n",
    "output_csv_file = \"C:/Users/MohammedShah/Desktop/mass_epd_csvs/augmented_mass.csv\"\n",
    "data = pd.read_csv(input_csv_file)"
   ]
  },
  {
   "cell_type": "code",
   "execution_count": 32,
   "id": "d25404d9-715d-482c-84d4-2ffd42858fb2",
   "metadata": {},
   "outputs": [],
   "source": [
    "augmenters = [\n",
    "    naw.SynonymAug(aug_src='wordnet'),  # Synonym augmentation\n",
    "    naw.RandomWordAug(),               # Random word replacement\n",
    "    nac.RandomCharAug(action=\"insert\"), # Random character insertion\n",
    "    #nac.RandomCharAug(action=\"delete\"), # Random character deletion\n",
    "    #nac.RandomCharAug(action=\"swap\")   # Random character swap\n",
    "]"
   ]
  },
  {
   "cell_type": "code",
   "execution_count": 33,
   "id": "7db09afb-943e-404b-b844-49d707a2efd7",
   "metadata": {},
   "outputs": [],
   "source": [
    "def augment_text(text, augmenter, num_times=3):\n",
    "    augmented_texts = []\n",
    "    for _ in range(num_times):\n",
    "        augmented_text = augmenter.augment(text)\n",
    "        augmented_texts.append(augmented_text)\n",
    "    return augmented_texts"
   ]
  },
  {
   "cell_type": "code",
   "execution_count": 37,
   "id": "993404c7-85c0-4757-9bf2-8dea67bbbed8",
   "metadata": {},
   "outputs": [],
   "source": [
    "import random\n",
    "\n",
    "augmented_data = []\n",
    "\n",
    "for index, row in data.iterrows():\n",
    "    original_text = row[\"Text\"]\n",
    "    page_number = row[\"PageNumber\"]\n",
    "    is_epd = row[\"IsEpd\"]\n",
    "\n",
    "    if isinstance(original_text, str):\n",
    "        augmented_texts = [original_text]\n",
    "\n",
    "        # Apply all augmentations together to generate 8 separate augmented outputs\n",
    "        for _ in range(8):\n",
    "            augmented_text = original_text\n",
    "            for augmenter in augmenters:\n",
    "                augmented_text = augmenter.augment(augmented_text)\n",
    "            augmented_data.append({\n",
    "                \"IsEpd\": is_epd,\n",
    "                \"PageNumber\": page_number,\n",
    "                \"Text\": augmented_text,\n",
    "            })\n",
    "\n",
    "augmented_df = pd.DataFrame(augmented_data)\n",
    "augmented_df = augmented_df[[\"IsEpd\", \"PageNumber\", \"Text\"]]  # Reorder the columns\n",
    "augmented_df.to_csv(output_csv_file, index=False)"
   ]
  },
  {
   "cell_type": "code",
   "execution_count": null,
   "id": "ab936378-47b4-4b1c-bf74-0d6cde61c1dc",
   "metadata": {},
   "outputs": [],
   "source": []
  },
  {
   "cell_type": "code",
   "execution_count": null,
   "id": "476c9362-e05b-48db-b025-068ed3d16173",
   "metadata": {},
   "outputs": [],
   "source": []
  },
  {
   "cell_type": "code",
   "execution_count": null,
   "id": "d08ea1e9-88e2-4e53-bb91-9bedf0d2ad23",
   "metadata": {},
   "outputs": [],
   "source": []
  }
 ],
 "metadata": {
  "kernelspec": {
   "display_name": "Python 3 (ipykernel)",
   "language": "python",
   "name": "python3"
  },
  "language_info": {
   "codemirror_mode": {
    "name": "ipython",
    "version": 3
   },
   "file_extension": ".py",
   "mimetype": "text/x-python",
   "name": "python",
   "nbconvert_exporter": "python",
   "pygments_lexer": "ipython3",
   "version": "3.12.0"
  }
 },
 "nbformat": 4,
 "nbformat_minor": 5
}
