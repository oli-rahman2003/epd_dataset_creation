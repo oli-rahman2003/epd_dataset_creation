{
 "cells": [
  {
   "cell_type": "code",
   "execution_count": 2,
   "id": "d08612b2-8593-4f58-a86f-f309b307bd39",
   "metadata": {},
   "outputs": [],
   "source": [
    "import csv\n",
    "import pdfplumber\n",
    "import os"
   ]
  },
  {
   "cell_type": "code",
   "execution_count": 5,
   "id": "5545fb9d-5748-4c03-9464-e5baf945cdd1",
   "metadata": {},
   "outputs": [
    {
     "name": "stdout",
     "output_type": "stream",
     "text": [
      "Data has been saved to \"C:/Users/MohammedShah/Desktop/mass_epd_csvs\\mass_epd.csv\"\n"
     ]
    }
   ],
   "source": [
    "import os\n",
    "import pdfplumber\n",
    "\n",
    "pdf_dir = \"C:/Users/MohammedShah/Desktop/mass_epds\"\n",
    "csv_dir = \"C:/Users/MohammedShah/Desktop/mass_epd_csvs\"\n",
    "\n",
    "data = []\n",
    "\n",
    "for filename in os.listdir(pdf_dir):\n",
    "    file_path = os.path.join(pdf_dir, filename)\n",
    "    \n",
    "    try:\n",
    "        with pdfplumber.open(file_path) as pdf:\n",
    "            for page_number, page in enumerate(pdf.pages, start=1):  # Start counting from page 1\n",
    "                text = page.extract_text()\n",
    "                \n",
    "                data.append((text, filename, page_number))  # Include page_number\n",
    "    except Exception as e:\n",
    "        print(f\"Error processing {file_path}: {str(e)}\")\n",
    "        continue\n",
    "\n",
    "csv_filename = os.path.join(csv_dir, 'mass_epd.csv')\n",
    "\n",
    "with open(csv_filename, 'w', newline='', encoding='utf-8') as csv_file:\n",
    "    csv_writer = csv.writer(csv_file)\n",
    "    csv_writer.writerow(['IsEpd', 'Text', 'PageNumber'])  # Add 'PageNumber' to the header\n",
    "    \n",
    "    for text, filename, page_number in data:\n",
    "        is_epd = 1 if \"NMVOC\" in text else 0\n",
    "        csv_writer.writerow([is_epd, text, page_number])  # Include page_number\n",
    "\n",
    "print(f'Data has been saved to \"{csv_filename}\"')"
   ]
  }
 ],
 "metadata": {
  "kernelspec": {
   "display_name": "Python 3 (ipykernel)",
   "language": "python",
   "name": "python3"
  },
  "language_info": {
   "codemirror_mode": {
    "name": "ipython",
    "version": 3
   },
   "file_extension": ".py",
   "mimetype": "text/x-python",
   "name": "python",
   "nbconvert_exporter": "python",
   "pygments_lexer": "ipython3",
   "version": "3.12.0"
  }
 },
 "nbformat": 4,
 "nbformat_minor": 5
}
